{
  "nbformat": 4,
  "nbformat_minor": 0,
  "metadata": {
    "kernelspec": {
      "display_name": "Python 3",
      "language": "python",
      "name": "python3"
    },
    "language_info": {
      "codemirror_mode": {
        "name": "ipython",
        "version": 3
      },
      "file_extension": ".py",
      "mimetype": "text/x-python",
      "name": "python",
      "nbconvert_exporter": "python",
      "pygments_lexer": "ipython3",
      "version": "3.6.9"
    },
    "colab": {
      "name": "a2-reg.ipynb",
      "provenance": [],
      "toc_visible": true
    }
  },
  "cells": [
    {
      "cell_type": "code",
      "metadata": {
        "id": "0iAuYTRRBkGp",
        "colab_type": "code",
        "colab": {
          "base_uri": "https://localhost:8080/",
          "height": 71
        },
        "outputId": "fa6111bd-aac7-4459-9e89-8c2acb91bd06"
      },
      "source": [
        "import pandas as pd\n",
        "import numpy as np\n",
        "import itertools\n",
        "import time\n",
        "import statsmodels.api as sm\n",
        "import matplotlib.pyplot as plt\n",
        "\n",
        "import numpy as np\n",
        "import pandas as pd\n",
        "import os\n",
        "\n",
        "from sklearn.model_selection import train_test_split\n",
        "from sklearn.feature_selection import SelectFromModel\n",
        "from sklearn.ensemble import RandomForestRegressor\n",
        "\n",
        "from sklearn.metrics import mean_squared_error\n",
        "\n",
        "import numpy as np\n",
        "import pandas as pd\n",
        "import matplotlib.pyplot as plt\n",
        "from sklearn.linear_model import LinearRegression\n",
        "from sklearn.metrics import mean_squared_error\n",
        "from sklearn.model_selection import train_test_split\n",
        "from sklearn.preprocessing import LabelEncoder\n",
        "from sklearn import metrics\n",
        "from sklearn.linear_model import LogisticRegression\n",
        "import matplotlib.pyplot as plt\n",
        "import seaborn as sns\n",
        "import pylab\n",
        "import scipy.stats as stats\n",
        "import pandas_profiling\n",
        "\n",
        "\n",
        "import pandas as pd\n",
        "import numpy as np\n",
        "\n",
        "#Plotting\n",
        "import seaborn as sns\n",
        "sns.set(style='white', context='notebook', palette='deep')\n",
        "import matplotlib.pyplot as plt\n",
        "\n",
        "#Who likes warnings anyway?\n",
        "import warnings\n",
        "warnings.filterwarnings('ignore')\n",
        "\n",
        "#Pre-processing, tuning of parameters and scoring tools\n",
        "from sklearn.model_selection import train_test_split\n",
        "from sklearn.preprocessing import StandardScaler, MinMaxScaler\n",
        "from sklearn.metrics import classification_report, confusion_matrix, cohen_kappa_score, roc_auc_score, roc_curve\n",
        "\n",
        "#Basic text mining tools\n",
        "from sklearn.feature_extraction import stop_words\n",
        "from sklearn.feature_extraction.text import CountVectorizer, TfidfTransformer\n",
        "from sklearn.decomposition import TruncatedSVD\n",
        "from sklearn.feature_extraction import text #Allow stop_words customization\n",
        "\n",
        "#Machine Learning models\n",
        "from sklearn.tree import DecisionTreeClassifier\n",
        "from sklearn.ensemble import RandomForestClassifier, AdaBoostClassifier\n",
        "from sklearn.neural_network import MLPClassifier\n",
        "from sklearn.svm import LinearSVC\n",
        "from sklearn.naive_bayes import MultinomialNB\n",
        "\n",
        "#Used for distribution fitting, and representation\n",
        "from scipy import stats\n",
        "\n",
        "#Time measuring for model training\n",
        "from time import time\n",
        "\n",
        "\n",
        "\n",
        "\n",
        "import pandas as pd\n",
        "import numpy as np\n",
        "import itertools\n",
        "import time\n",
        "import statsmodels.api as sm\n",
        "import matplotlib.pyplot as plt\n",
        "def processSubset(feature_set):\n",
        "    # Fit model on feature_set and calculate RSS\n",
        "    model = sm.OLS(y,X[list(feature_set)])\n",
        "    regr = model.fit()\n",
        "    RSS = ((regr.predict(X[list(feature_set)]) - y) ** 2).sum()\n",
        "    return {\"model\":regr, \"RSS\":RSS, \"AIC\":regr.aic, \"BIC\":regr.bic}"
      ],
      "execution_count": 1,
      "outputs": [
        {
          "output_type": "stream",
          "text": [
            "/usr/local/lib/python3.6/dist-packages/statsmodels/tools/_testing.py:19: FutureWarning: pandas.util.testing is deprecated. Use the functions in the public API at pandas.testing instead.\n",
            "  import pandas.util.testing as tm\n"
          ],
          "name": "stderr"
        }
      ]
    },
    {
      "cell_type": "code",
      "metadata": {
        "id": "TCjeQwp0BkGz",
        "colab_type": "code",
        "colab": {
          "base_uri": "https://localhost:8080/",
          "height": 383
        },
        "outputId": "e5d1f300-8e56-4200-8990-b890aa75af02"
      },
      "source": [
        "missing_values_list = [\"unknown\", \"Unknown\", \"UNKNOWN\", \"nA\", \"na\", \"n/a\", \"-\", \"--\", \"#NUM!\"]\n",
        "data=pd.read_csv('./winemag-data-130k-v2.csv', na_values=missing_values_list)\n",
        "data.head(3)"
      ],
      "execution_count": 24,
      "outputs": [
        {
          "output_type": "execute_result",
          "data": {
            "text/html": [
              "<div>\n",
              "<style scoped>\n",
              "    .dataframe tbody tr th:only-of-type {\n",
              "        vertical-align: middle;\n",
              "    }\n",
              "\n",
              "    .dataframe tbody tr th {\n",
              "        vertical-align: top;\n",
              "    }\n",
              "\n",
              "    .dataframe thead th {\n",
              "        text-align: right;\n",
              "    }\n",
              "</style>\n",
              "<table border=\"1\" class=\"dataframe\">\n",
              "  <thead>\n",
              "    <tr style=\"text-align: right;\">\n",
              "      <th></th>\n",
              "      <th>id</th>\n",
              "      <th>country</th>\n",
              "      <th>description</th>\n",
              "      <th>designation</th>\n",
              "      <th>points</th>\n",
              "      <th>price</th>\n",
              "      <th>province</th>\n",
              "      <th>region_1</th>\n",
              "      <th>region_2</th>\n",
              "      <th>taster_name</th>\n",
              "      <th>taster_twitter_handle</th>\n",
              "      <th>title</th>\n",
              "      <th>variety</th>\n",
              "      <th>winery</th>\n",
              "    </tr>\n",
              "  </thead>\n",
              "  <tbody>\n",
              "    <tr>\n",
              "      <th>0</th>\n",
              "      <td>0</td>\n",
              "      <td>Italy</td>\n",
              "      <td>Aromas include tropical fruit, broom, brimston...</td>\n",
              "      <td>Vulkà Bianco</td>\n",
              "      <td>87</td>\n",
              "      <td>NaN</td>\n",
              "      <td>Sicily &amp; Sardinia</td>\n",
              "      <td>Etna</td>\n",
              "      <td>NaN</td>\n",
              "      <td>Kerin O’Keefe</td>\n",
              "      <td>@kerinokeefe</td>\n",
              "      <td>Nicosia 2013 Vulkà Bianco  (Etna)</td>\n",
              "      <td>White Blend</td>\n",
              "      <td>Nicosia</td>\n",
              "    </tr>\n",
              "    <tr>\n",
              "      <th>1</th>\n",
              "      <td>1</td>\n",
              "      <td>Portugal</td>\n",
              "      <td>This is ripe and fruity, a wine that is smooth...</td>\n",
              "      <td>Avidagos</td>\n",
              "      <td>87</td>\n",
              "      <td>15.0</td>\n",
              "      <td>Douro</td>\n",
              "      <td>NaN</td>\n",
              "      <td>NaN</td>\n",
              "      <td>Roger Voss</td>\n",
              "      <td>@vossroger</td>\n",
              "      <td>Quinta dos Avidagos 2011 Avidagos Red (Douro)</td>\n",
              "      <td>Portuguese Red</td>\n",
              "      <td>Quinta dos Avidagos</td>\n",
              "    </tr>\n",
              "    <tr>\n",
              "      <th>2</th>\n",
              "      <td>2</td>\n",
              "      <td>US</td>\n",
              "      <td>Tart and snappy, the flavors of lime flesh and...</td>\n",
              "      <td>NaN</td>\n",
              "      <td>87</td>\n",
              "      <td>14.0</td>\n",
              "      <td>Oregon</td>\n",
              "      <td>Willamette Valley</td>\n",
              "      <td>Willamette Valley</td>\n",
              "      <td>Paul Gregutt</td>\n",
              "      <td>@paulgwine</td>\n",
              "      <td>Rainstorm 2013 Pinot Gris (Willamette Valley)</td>\n",
              "      <td>Pinot Gris</td>\n",
              "      <td>Rainstorm</td>\n",
              "    </tr>\n",
              "  </tbody>\n",
              "</table>\n",
              "</div>"
            ],
            "text/plain": [
              "   id   country  ...         variety               winery\n",
              "0   0     Italy  ...     White Blend              Nicosia\n",
              "1   1  Portugal  ...  Portuguese Red  Quinta dos Avidagos\n",
              "2   2        US  ...      Pinot Gris            Rainstorm\n",
              "\n",
              "[3 rows x 14 columns]"
            ]
          },
          "metadata": {
            "tags": []
          },
          "execution_count": 24
        }
      ]
    },
    {
      "cell_type": "code",
      "metadata": {
        "id": "RTMjiq8-BkHQ",
        "colab_type": "code",
        "colab": {
          "base_uri": "https://localhost:8080/",
          "height": 34
        },
        "outputId": "04304875-b60d-41cc-b1a6-a0c653927142"
      },
      "source": [
        "us_wines = data.loc[data['country'] == 'US']\n",
        "us_wines.shape"
      ],
      "execution_count": 25,
      "outputs": [
        {
          "output_type": "execute_result",
          "data": {
            "text/plain": [
              "(54504, 14)"
            ]
          },
          "metadata": {
            "tags": []
          },
          "execution_count": 25
        }
      ]
    },
    {
      "cell_type": "code",
      "metadata": {
        "id": "M-e2UQxQBkHn",
        "colab_type": "code",
        "colab": {
          "base_uri": "https://localhost:8080/",
          "height": 187
        },
        "outputId": "e9e7aff1-7fd1-4184-b1bf-0fbcfcbfebc3"
      },
      "source": [
        "fill_col_dict = {'designation': 'missing_designation',\n",
        " 'price':15,\n",
        " 'taster_name': 'missing_taster_name',\n",
        " 'region_2': 'someplace_2',\n",
        " 'region_1': 'Someplace_1'}\n",
        "for col in fill_col_dict.keys():\n",
        "    us_wines[col] = us_wines[col].fillna(fill_col_dict[col])\n",
        "\n",
        "us_wines.isna().sum()"
      ],
      "execution_count": 30,
      "outputs": [
        {
          "output_type": "execute_result",
          "data": {
            "text/plain": [
              "designation    0\n",
              "points         0\n",
              "price          0\n",
              "province       0\n",
              "region_1       0\n",
              "region_2       0\n",
              "taster_name    0\n",
              "variety        0\n",
              "winery         0\n",
              "dtype: int64"
            ]
          },
          "metadata": {
            "tags": []
          },
          "execution_count": 30
        }
      ]
    },
    {
      "cell_type": "code",
      "metadata": {
        "id": "kYiiLUxeBkHu",
        "colab_type": "code",
        "colab": {}
      },
      "source": [
        "us_wines=us_wines.drop(columns=['id','description', 'taster_twitter_handle', 'title', 'country'])"
      ],
      "execution_count": 0,
      "outputs": []
    },
    {
      "cell_type": "code",
      "metadata": {
        "id": "ahyooRbABkH0",
        "colab_type": "code",
        "colab": {
          "base_uri": "https://localhost:8080/",
          "height": 328
        },
        "outputId": "96395c2d-714a-4a36-fcfe-e9a4669bbb4d"
      },
      "source": [
        "#unique values\n",
        "percent = (us_wines.nunique()/len(us_wines)*100).sort_values(ascending = False)\n",
        "total = us_wines.nunique().sort_values(ascending = False)\n",
        "unique_data  = pd.concat([total, percent], axis=1, keys=['Total Unique Values', 'Cardinality (%)'])\n",
        "unique_data.reset_index()"
      ],
      "execution_count": 20,
      "outputs": [
        {
          "output_type": "execute_result",
          "data": {
            "text/html": [
              "<div>\n",
              "<style scoped>\n",
              "    .dataframe tbody tr th:only-of-type {\n",
              "        vertical-align: middle;\n",
              "    }\n",
              "\n",
              "    .dataframe tbody tr th {\n",
              "        vertical-align: top;\n",
              "    }\n",
              "\n",
              "    .dataframe thead th {\n",
              "        text-align: right;\n",
              "    }\n",
              "</style>\n",
              "<table border=\"1\" class=\"dataframe\">\n",
              "  <thead>\n",
              "    <tr style=\"text-align: right;\">\n",
              "      <th></th>\n",
              "      <th>index</th>\n",
              "      <th>Total Unique Values</th>\n",
              "      <th>Cardinality (%)</th>\n",
              "    </tr>\n",
              "  </thead>\n",
              "  <tbody>\n",
              "    <tr>\n",
              "      <th>0</th>\n",
              "      <td>designation</td>\n",
              "      <td>14183</td>\n",
              "      <td>26.021943</td>\n",
              "    </tr>\n",
              "    <tr>\n",
              "      <th>1</th>\n",
              "      <td>winery</td>\n",
              "      <td>5375</td>\n",
              "      <td>9.861662</td>\n",
              "    </tr>\n",
              "    <tr>\n",
              "      <th>2</th>\n",
              "      <td>region_1</td>\n",
              "      <td>264</td>\n",
              "      <td>0.484368</td>\n",
              "    </tr>\n",
              "    <tr>\n",
              "      <th>3</th>\n",
              "      <td>variety</td>\n",
              "      <td>257</td>\n",
              "      <td>0.471525</td>\n",
              "    </tr>\n",
              "    <tr>\n",
              "      <th>4</th>\n",
              "      <td>price</td>\n",
              "      <td>161</td>\n",
              "      <td>0.295391</td>\n",
              "    </tr>\n",
              "    <tr>\n",
              "      <th>5</th>\n",
              "      <td>province</td>\n",
              "      <td>27</td>\n",
              "      <td>0.049538</td>\n",
              "    </tr>\n",
              "    <tr>\n",
              "      <th>6</th>\n",
              "      <td>points</td>\n",
              "      <td>21</td>\n",
              "      <td>0.038529</td>\n",
              "    </tr>\n",
              "    <tr>\n",
              "      <th>7</th>\n",
              "      <td>region_2</td>\n",
              "      <td>17</td>\n",
              "      <td>0.031190</td>\n",
              "    </tr>\n",
              "    <tr>\n",
              "      <th>8</th>\n",
              "      <td>taster_name</td>\n",
              "      <td>15</td>\n",
              "      <td>0.027521</td>\n",
              "    </tr>\n",
              "  </tbody>\n",
              "</table>\n",
              "</div>"
            ],
            "text/plain": [
              "         index  Total Unique Values  Cardinality (%)\n",
              "0  designation                14183        26.021943\n",
              "1       winery                 5375         9.861662\n",
              "2     region_1                  264         0.484368\n",
              "3      variety                  257         0.471525\n",
              "4        price                  161         0.295391\n",
              "5     province                   27         0.049538\n",
              "6       points                   21         0.038529\n",
              "7     region_2                   17         0.031190\n",
              "8  taster_name                   15         0.027521"
            ]
          },
          "metadata": {
            "tags": []
          },
          "execution_count": 20
        }
      ]
    },
    {
      "cell_type": "code",
      "metadata": {
        "id": "OnFqNeg5BkH7",
        "colab_type": "code",
        "colab": {}
      },
      "source": [
        "#missing values\n",
        "us_wines.price = us_wines.price.fillna(us_wines.price.mean())\n",
        "#total = us_wines.isnull().sum().sort_values(ascending = False)\n",
        "#percent = (us_wines.isnull().sum()/us_wines.isnull().count()*100).sort_values(ascending = False)\n",
        "#missing_data  = pd.concat([total, percent], axis=1, keys=['Total Missing Records', 'Total Missing Records (%)'])\n",
        "#missing_data.reset_index()\n"
      ],
      "execution_count": 0,
      "outputs": []
    },
    {
      "cell_type": "code",
      "metadata": {
        "id": "eNcWKq9wBkIC",
        "colab_type": "code",
        "colab": {
          "base_uri": "https://localhost:8080/",
          "height": 221
        },
        "outputId": "779b81d7-9476-475b-f689-8b594b2f1398"
      },
      "source": [
        "us_wines.taster_name.dropna()"
      ],
      "execution_count": 16,
      "outputs": [
        {
          "output_type": "execute_result",
          "data": {
            "text/plain": [
              "2               Paul Gregutt\n",
              "3         Alexander Peartree\n",
              "4               Paul Gregutt\n",
              "10            Virginie Boone\n",
              "12            Virginie Boone\n",
              "                 ...        \n",
              "129945         Matt Kettmann\n",
              "129949        Virginie Boone\n",
              "129950        Virginie Boone\n",
              "129952        Virginie Boone\n",
              "129967          Paul Gregutt\n",
              "Name: taster_name, Length: 37730, dtype: object"
            ]
          },
          "metadata": {
            "tags": []
          },
          "execution_count": 16
        }
      ]
    },
    {
      "cell_type": "code",
      "metadata": {
        "id": "-lMZE352BkIR",
        "colab_type": "code",
        "colab": {
          "base_uri": "https://localhost:8080/",
          "height": 529
        },
        "outputId": "e85736e0-7392-4998-f3b7-5d2aa5c299fa"
      },
      "source": [
        "us_wines.head(10)"
      ],
      "execution_count": 31,
      "outputs": [
        {
          "output_type": "execute_result",
          "data": {
            "text/html": [
              "<div>\n",
              "<style scoped>\n",
              "    .dataframe tbody tr th:only-of-type {\n",
              "        vertical-align: middle;\n",
              "    }\n",
              "\n",
              "    .dataframe tbody tr th {\n",
              "        vertical-align: top;\n",
              "    }\n",
              "\n",
              "    .dataframe thead th {\n",
              "        text-align: right;\n",
              "    }\n",
              "</style>\n",
              "<table border=\"1\" class=\"dataframe\">\n",
              "  <thead>\n",
              "    <tr style=\"text-align: right;\">\n",
              "      <th></th>\n",
              "      <th>designation</th>\n",
              "      <th>points</th>\n",
              "      <th>price</th>\n",
              "      <th>province</th>\n",
              "      <th>region_1</th>\n",
              "      <th>region_2</th>\n",
              "      <th>taster_name</th>\n",
              "      <th>variety</th>\n",
              "      <th>winery</th>\n",
              "    </tr>\n",
              "  </thead>\n",
              "  <tbody>\n",
              "    <tr>\n",
              "      <th>2</th>\n",
              "      <td>missing_designation</td>\n",
              "      <td>87</td>\n",
              "      <td>14.0</td>\n",
              "      <td>Oregon</td>\n",
              "      <td>Willamette Valley</td>\n",
              "      <td>Willamette Valley</td>\n",
              "      <td>Paul Gregutt</td>\n",
              "      <td>Pinot Gris</td>\n",
              "      <td>Rainstorm</td>\n",
              "    </tr>\n",
              "    <tr>\n",
              "      <th>3</th>\n",
              "      <td>Reserve Late Harvest</td>\n",
              "      <td>87</td>\n",
              "      <td>13.0</td>\n",
              "      <td>Michigan</td>\n",
              "      <td>Lake Michigan Shore</td>\n",
              "      <td>someplace_2</td>\n",
              "      <td>Alexander Peartree</td>\n",
              "      <td>Riesling</td>\n",
              "      <td>St. Julian</td>\n",
              "    </tr>\n",
              "    <tr>\n",
              "      <th>4</th>\n",
              "      <td>Vintner's Reserve Wild Child Block</td>\n",
              "      <td>87</td>\n",
              "      <td>65.0</td>\n",
              "      <td>Oregon</td>\n",
              "      <td>Willamette Valley</td>\n",
              "      <td>Willamette Valley</td>\n",
              "      <td>Paul Gregutt</td>\n",
              "      <td>Pinot Noir</td>\n",
              "      <td>Sweet Cheeks</td>\n",
              "    </tr>\n",
              "    <tr>\n",
              "      <th>10</th>\n",
              "      <td>Mountain Cuvée</td>\n",
              "      <td>87</td>\n",
              "      <td>19.0</td>\n",
              "      <td>California</td>\n",
              "      <td>Napa Valley</td>\n",
              "      <td>Napa</td>\n",
              "      <td>Virginie Boone</td>\n",
              "      <td>Cabernet Sauvignon</td>\n",
              "      <td>Kirkland Signature</td>\n",
              "    </tr>\n",
              "    <tr>\n",
              "      <th>12</th>\n",
              "      <td>missing_designation</td>\n",
              "      <td>87</td>\n",
              "      <td>34.0</td>\n",
              "      <td>California</td>\n",
              "      <td>Alexander Valley</td>\n",
              "      <td>Sonoma</td>\n",
              "      <td>Virginie Boone</td>\n",
              "      <td>Cabernet Sauvignon</td>\n",
              "      <td>Louis M. Martini</td>\n",
              "    </tr>\n",
              "    <tr>\n",
              "      <th>14</th>\n",
              "      <td>missing_designation</td>\n",
              "      <td>87</td>\n",
              "      <td>12.0</td>\n",
              "      <td>California</td>\n",
              "      <td>Central Coast</td>\n",
              "      <td>Central Coast</td>\n",
              "      <td>Matt Kettmann</td>\n",
              "      <td>Chardonnay</td>\n",
              "      <td>Mirassou</td>\n",
              "    </tr>\n",
              "    <tr>\n",
              "      <th>19</th>\n",
              "      <td>missing_designation</td>\n",
              "      <td>87</td>\n",
              "      <td>32.0</td>\n",
              "      <td>Virginia</td>\n",
              "      <td>Virginia</td>\n",
              "      <td>someplace_2</td>\n",
              "      <td>Alexander Peartree</td>\n",
              "      <td>Meritage</td>\n",
              "      <td>Quiévremont</td>\n",
              "    </tr>\n",
              "    <tr>\n",
              "      <th>20</th>\n",
              "      <td>Vin de Maison</td>\n",
              "      <td>87</td>\n",
              "      <td>23.0</td>\n",
              "      <td>Virginia</td>\n",
              "      <td>Virginia</td>\n",
              "      <td>someplace_2</td>\n",
              "      <td>Alexander Peartree</td>\n",
              "      <td>Red Blend</td>\n",
              "      <td>Quiévremont</td>\n",
              "    </tr>\n",
              "    <tr>\n",
              "      <th>21</th>\n",
              "      <td>missing_designation</td>\n",
              "      <td>87</td>\n",
              "      <td>20.0</td>\n",
              "      <td>Oregon</td>\n",
              "      <td>Oregon</td>\n",
              "      <td>Oregon Other</td>\n",
              "      <td>Paul Gregutt</td>\n",
              "      <td>Pinot Noir</td>\n",
              "      <td>Acrobat</td>\n",
              "    </tr>\n",
              "    <tr>\n",
              "      <th>23</th>\n",
              "      <td>Signature Selection</td>\n",
              "      <td>87</td>\n",
              "      <td>22.0</td>\n",
              "      <td>California</td>\n",
              "      <td>Paso Robles</td>\n",
              "      <td>Central Coast</td>\n",
              "      <td>Matt Kettmann</td>\n",
              "      <td>Merlot</td>\n",
              "      <td>Bianchi</td>\n",
              "    </tr>\n",
              "  </tbody>\n",
              "</table>\n",
              "</div>"
            ],
            "text/plain": [
              "                           designation  ...              winery\n",
              "2                  missing_designation  ...           Rainstorm\n",
              "3                 Reserve Late Harvest  ...          St. Julian\n",
              "4   Vintner's Reserve Wild Child Block  ...        Sweet Cheeks\n",
              "10                      Mountain Cuvée  ...  Kirkland Signature\n",
              "12                 missing_designation  ...    Louis M. Martini\n",
              "14                 missing_designation  ...            Mirassou\n",
              "19                 missing_designation  ...         Quiévremont\n",
              "20                       Vin de Maison  ...         Quiévremont\n",
              "21                 missing_designation  ...             Acrobat\n",
              "23                 Signature Selection  ...             Bianchi\n",
              "\n",
              "[10 rows x 9 columns]"
            ]
          },
          "metadata": {
            "tags": []
          },
          "execution_count": 31
        }
      ]
    },
    {
      "cell_type": "code",
      "metadata": {
        "id": "EzXwy9fJBkIa",
        "colab_type": "code",
        "colab": {}
      },
      "source": [
        "us_wines.designation = us_wines.designation.dropna()\n",
        "us_wines.region_1 = us_wines.region_1.dropna()\n",
        "us_wines.region_2 = us_wines.region_2.dropna()"
      ],
      "execution_count": 0,
      "outputs": []
    },
    {
      "cell_type": "code",
      "metadata": {
        "id": "SThXQyOpBkI_",
        "colab_type": "code",
        "colab": {}
      },
      "source": [
        "#label encoding\n",
        "\n",
        "from sklearn import preprocessing \n",
        "  \n",
        "# label_encoder object knows how to understand word labels. \n",
        "label_encoder = preprocessing.LabelEncoder() \n",
        "  \n",
        "# Encode labels in column 'species'. \n",
        "#us_wines['tester_unique_id']= label_encoder.fit_transform(us_wines['tester_unique_id']) \n",
        "us_wines['region_1']= label_encoder.fit_transform(us_wines['region_1']) \n",
        "us_wines['region_2']= label_encoder.fit_transform(us_wines['region_2']) \n",
        "\n",
        "us_wines['designation']= label_encoder.fit_transform(us_wines['designation']) \n",
        "us_wines['province']= label_encoder.fit_transform(us_wines['province'])\n",
        "us_wines['variety']= label_encoder.fit_transform(us_wines['variety']) \n",
        "us_wines['winery']= label_encoder.fit_transform(us_wines['winery']) "
      ],
      "execution_count": 0,
      "outputs": []
    },
    {
      "cell_type": "code",
      "metadata": {
        "id": "9jL_F-m_BkJG",
        "colab_type": "code",
        "colab": {}
      },
      "source": [
        "us_wines['region_1'] = us_wines['region_1']/max(us_wines['region_1'])\n",
        "us_wines['region_1'] = us_wines['region_1']\n",
        "\n",
        "us_wines['designation'] = us_wines['designation']/max(us_wines['designation'])\n",
        "us_wines['designation'] = us_wines['designation']\n",
        "\n",
        "us_wines['province'] = us_wines['province']/max(us_wines['province'])\n",
        "us_wines['province'] = us_wines['province']\n",
        "\n",
        "us_wines['variety'] = us_wines['variety']/max(us_wines['variety'])\n",
        "us_wines['variety'] = us_wines['variety']\n",
        "\n",
        "us_wines['winery'] = us_wines['winery']/max(us_wines['winery'])\n",
        "us_wines['winery'] = us_wines['winery']\n",
        "\n",
        "us_wines['region_2'] = us_wines['region_2']/max(us_wines['region_2'])\n",
        "us_wines['region_2'] = us_wines['region_2'] + 1"
      ],
      "execution_count": 0,
      "outputs": []
    },
    {
      "cell_type": "code",
      "metadata": {
        "id": "i6n8ltePBkJp",
        "colab_type": "code",
        "colab": {
          "base_uri": "https://localhost:8080/",
          "height": 34
        },
        "outputId": "7da6b0af-a536-4a84-f96d-c09f83c935e0"
      },
      "source": [
        "us_wines['price'].median()"
      ],
      "execution_count": 38,
      "outputs": [
        {
          "output_type": "execute_result",
          "data": {
            "text/plain": [
              "3.4011973816621555"
            ]
          },
          "metadata": {
            "tags": []
          },
          "execution_count": 38
        }
      ]
    },
    {
      "cell_type": "code",
      "metadata": {
        "id": "AeBm0CKtBkJv",
        "colab_type": "code",
        "colab": {
          "base_uri": "https://localhost:8080/",
          "height": 34
        },
        "outputId": "c8a9a60e-4c7b-4b27-a16b-8b25885de9c0"
      },
      "source": [
        "us_wines['price'].mean()"
      ],
      "execution_count": 39,
      "outputs": [
        {
          "output_type": "execute_result",
          "data": {
            "text/plain": [
              "3.4219904546469255"
            ]
          },
          "metadata": {
            "tags": []
          },
          "execution_count": 39
        }
      ]
    },
    {
      "cell_type": "code",
      "metadata": {
        "id": "kKk-OB7CBkJ1",
        "colab_type": "code",
        "colab": {
          "base_uri": "https://localhost:8080/",
          "height": 297
        },
        "outputId": "e8025464-6b96-409b-8213-cfa193ac8fcb"
      },
      "source": [
        "us_wines.corr(method ='pearson') "
      ],
      "execution_count": 63,
      "outputs": [
        {
          "output_type": "execute_result",
          "data": {
            "text/html": [
              "<div>\n",
              "<style scoped>\n",
              "    .dataframe tbody tr th:only-of-type {\n",
              "        vertical-align: middle;\n",
              "    }\n",
              "\n",
              "    .dataframe tbody tr th {\n",
              "        vertical-align: top;\n",
              "    }\n",
              "\n",
              "    .dataframe thead th {\n",
              "        text-align: right;\n",
              "    }\n",
              "</style>\n",
              "<table border=\"1\" class=\"dataframe\">\n",
              "  <thead>\n",
              "    <tr style=\"text-align: right;\">\n",
              "      <th></th>\n",
              "      <th>designation</th>\n",
              "      <th>points</th>\n",
              "      <th>price</th>\n",
              "      <th>province</th>\n",
              "      <th>region_1</th>\n",
              "      <th>region_2</th>\n",
              "      <th>variety</th>\n",
              "      <th>winery</th>\n",
              "    </tr>\n",
              "  </thead>\n",
              "  <tbody>\n",
              "    <tr>\n",
              "      <th>designation</th>\n",
              "      <td>1.000000</td>\n",
              "      <td>-0.156729</td>\n",
              "      <td>-0.216256</td>\n",
              "      <td>-0.004194</td>\n",
              "      <td>-0.030496</td>\n",
              "      <td>-0.027456</td>\n",
              "      <td>-0.055437</td>\n",
              "      <td>0.014554</td>\n",
              "    </tr>\n",
              "    <tr>\n",
              "      <th>points</th>\n",
              "      <td>-0.156729</td>\n",
              "      <td>1.000000</td>\n",
              "      <td>0.547688</td>\n",
              "      <td>-0.000713</td>\n",
              "      <td>0.114572</td>\n",
              "      <td>0.033109</td>\n",
              "      <td>-0.053099</td>\n",
              "      <td>0.004140</td>\n",
              "    </tr>\n",
              "    <tr>\n",
              "      <th>price</th>\n",
              "      <td>-0.216256</td>\n",
              "      <td>0.547688</td>\n",
              "      <td>1.000000</td>\n",
              "      <td>-0.111845</td>\n",
              "      <td>0.192592</td>\n",
              "      <td>0.099548</td>\n",
              "      <td>-0.164779</td>\n",
              "      <td>0.010999</td>\n",
              "    </tr>\n",
              "    <tr>\n",
              "      <th>province</th>\n",
              "      <td>-0.004194</td>\n",
              "      <td>-0.000713</td>\n",
              "      <td>-0.111845</td>\n",
              "      <td>1.000000</td>\n",
              "      <td>0.082926</td>\n",
              "      <td>0.070618</td>\n",
              "      <td>-0.008618</td>\n",
              "      <td>-0.024688</td>\n",
              "    </tr>\n",
              "    <tr>\n",
              "      <th>region_1</th>\n",
              "      <td>-0.030496</td>\n",
              "      <td>0.114572</td>\n",
              "      <td>0.192592</td>\n",
              "      <td>0.082926</td>\n",
              "      <td>1.000000</td>\n",
              "      <td>0.190176</td>\n",
              "      <td>0.005834</td>\n",
              "      <td>0.007361</td>\n",
              "    </tr>\n",
              "    <tr>\n",
              "      <th>region_2</th>\n",
              "      <td>-0.027456</td>\n",
              "      <td>0.033109</td>\n",
              "      <td>0.099548</td>\n",
              "      <td>0.070618</td>\n",
              "      <td>0.190176</td>\n",
              "      <td>1.000000</td>\n",
              "      <td>0.078597</td>\n",
              "      <td>0.017173</td>\n",
              "    </tr>\n",
              "    <tr>\n",
              "      <th>variety</th>\n",
              "      <td>-0.055437</td>\n",
              "      <td>-0.053099</td>\n",
              "      <td>-0.164779</td>\n",
              "      <td>-0.008618</td>\n",
              "      <td>0.005834</td>\n",
              "      <td>0.078597</td>\n",
              "      <td>1.000000</td>\n",
              "      <td>0.012031</td>\n",
              "    </tr>\n",
              "    <tr>\n",
              "      <th>winery</th>\n",
              "      <td>0.014554</td>\n",
              "      <td>0.004140</td>\n",
              "      <td>0.010999</td>\n",
              "      <td>-0.024688</td>\n",
              "      <td>0.007361</td>\n",
              "      <td>0.017173</td>\n",
              "      <td>0.012031</td>\n",
              "      <td>1.000000</td>\n",
              "    </tr>\n",
              "  </tbody>\n",
              "</table>\n",
              "</div>"
            ],
            "text/plain": [
              "             designation    points     price  ...  region_2   variety    winery\n",
              "designation     1.000000 -0.156729 -0.216256  ... -0.027456 -0.055437  0.014554\n",
              "points         -0.156729  1.000000  0.547688  ...  0.033109 -0.053099  0.004140\n",
              "price          -0.216256  0.547688  1.000000  ...  0.099548 -0.164779  0.010999\n",
              "province       -0.004194 -0.000713 -0.111845  ...  0.070618 -0.008618 -0.024688\n",
              "region_1       -0.030496  0.114572  0.192592  ...  0.190176  0.005834  0.007361\n",
              "region_2       -0.027456  0.033109  0.099548  ...  1.000000  0.078597  0.017173\n",
              "variety        -0.055437 -0.053099 -0.164779  ...  0.078597  1.000000  0.012031\n",
              "winery          0.014554  0.004140  0.010999  ...  0.017173  0.012031  1.000000\n",
              "\n",
              "[8 rows x 8 columns]"
            ]
          },
          "metadata": {
            "tags": []
          },
          "execution_count": 63
        }
      ]
    },
    {
      "cell_type": "markdown",
      "metadata": {
        "id": "FzhWABOgBkJ8",
        "colab_type": "text"
      },
      "source": [
        " # model selection"
      ]
    },
    {
      "cell_type": "code",
      "metadata": {
        "id": "WhQWwWAzBkJ9",
        "colab_type": "code",
        "colab": {
          "base_uri": "https://localhost:8080/",
          "height": 419
        },
        "outputId": "21aff62f-1248-42e7-bd5f-5875640844a0"
      },
      "source": [
        "y = us_wines.points\n",
        "X=us_wines.drop(columns=['taster_name','points'])\n",
        "X"
      ],
      "execution_count": 44,
      "outputs": [
        {
          "output_type": "execute_result",
          "data": {
            "text/html": [
              "<div>\n",
              "<style scoped>\n",
              "    .dataframe tbody tr th:only-of-type {\n",
              "        vertical-align: middle;\n",
              "    }\n",
              "\n",
              "    .dataframe tbody tr th {\n",
              "        vertical-align: top;\n",
              "    }\n",
              "\n",
              "    .dataframe thead th {\n",
              "        text-align: right;\n",
              "    }\n",
              "</style>\n",
              "<table border=\"1\" class=\"dataframe\">\n",
              "  <thead>\n",
              "    <tr style=\"text-align: right;\">\n",
              "      <th></th>\n",
              "      <th>designation</th>\n",
              "      <th>price</th>\n",
              "      <th>province</th>\n",
              "      <th>region_1</th>\n",
              "      <th>region_2</th>\n",
              "      <th>variety</th>\n",
              "      <th>winery</th>\n",
              "    </tr>\n",
              "  </thead>\n",
              "  <tbody>\n",
              "    <tr>\n",
              "      <th>2</th>\n",
              "      <td>0.998096</td>\n",
              "      <td>2.639057</td>\n",
              "      <td>0.730769</td>\n",
              "      <td>0.973485</td>\n",
              "      <td>1.941176</td>\n",
              "      <td>0.601562</td>\n",
              "      <td>0.710644</td>\n",
              "    </tr>\n",
              "    <tr>\n",
              "      <th>3</th>\n",
              "      <td>0.704364</td>\n",
              "      <td>2.564949</td>\n",
              "      <td>0.423077</td>\n",
              "      <td>0.333333</td>\n",
              "      <td>2.000000</td>\n",
              "      <td>0.667969</td>\n",
              "      <td>0.832713</td>\n",
              "    </tr>\n",
              "    <tr>\n",
              "      <th>4</th>\n",
              "      <td>0.947331</td>\n",
              "      <td>4.174387</td>\n",
              "      <td>0.730769</td>\n",
              "      <td>0.973485</td>\n",
              "      <td>1.941176</td>\n",
              "      <td>0.617188</td>\n",
              "      <td>0.857090</td>\n",
              "    </tr>\n",
              "    <tr>\n",
              "      <th>10</th>\n",
              "      <td>0.571882</td>\n",
              "      <td>2.944439</td>\n",
              "      <td>0.076923</td>\n",
              "      <td>0.503788</td>\n",
              "      <td>1.352941</td>\n",
              "      <td>0.105469</td>\n",
              "      <td>0.478415</td>\n",
              "    </tr>\n",
              "    <tr>\n",
              "      <th>12</th>\n",
              "      <td>0.998096</td>\n",
              "      <td>3.526361</td>\n",
              "      <td>0.076923</td>\n",
              "      <td>0.003788</td>\n",
              "      <td>1.705882</td>\n",
              "      <td>0.105469</td>\n",
              "      <td>0.530889</td>\n",
              "    </tr>\n",
              "    <tr>\n",
              "      <th>...</th>\n",
              "      <td>...</td>\n",
              "      <td>...</td>\n",
              "      <td>...</td>\n",
              "      <td>...</td>\n",
              "      <td>...</td>\n",
              "      <td>...</td>\n",
              "      <td>...</td>\n",
              "    </tr>\n",
              "    <tr>\n",
              "      <th>129945</th>\n",
              "      <td>0.440457</td>\n",
              "      <td>2.995732</td>\n",
              "      <td>0.076923</td>\n",
              "      <td>0.757576</td>\n",
              "      <td>1.058824</td>\n",
              "      <td>0.218750</td>\n",
              "      <td>0.097693</td>\n",
              "    </tr>\n",
              "    <tr>\n",
              "      <th>129949</th>\n",
              "      <td>0.068603</td>\n",
              "      <td>3.555348</td>\n",
              "      <td>0.076923</td>\n",
              "      <td>0.503788</td>\n",
              "      <td>1.352941</td>\n",
              "      <td>0.191406</td>\n",
              "      <td>0.325456</td>\n",
              "    </tr>\n",
              "    <tr>\n",
              "      <th>129950</th>\n",
              "      <td>0.109920</td>\n",
              "      <td>3.555348</td>\n",
              "      <td>0.076923</td>\n",
              "      <td>0.503788</td>\n",
              "      <td>1.352941</td>\n",
              "      <td>0.996094</td>\n",
              "      <td>0.401191</td>\n",
              "    </tr>\n",
              "    <tr>\n",
              "      <th>129952</th>\n",
              "      <td>0.998096</td>\n",
              "      <td>3.091042</td>\n",
              "      <td>0.076923</td>\n",
              "      <td>0.128788</td>\n",
              "      <td>1.352941</td>\n",
              "      <td>0.996094</td>\n",
              "      <td>0.417566</td>\n",
              "    </tr>\n",
              "    <tr>\n",
              "      <th>129967</th>\n",
              "      <td>0.998096</td>\n",
              "      <td>4.317488</td>\n",
              "      <td>0.730769</td>\n",
              "      <td>0.590909</td>\n",
              "      <td>1.588235</td>\n",
              "      <td>0.617188</td>\n",
              "      <td>0.192780</td>\n",
              "    </tr>\n",
              "  </tbody>\n",
              "</table>\n",
              "<p>54504 rows × 7 columns</p>\n",
              "</div>"
            ],
            "text/plain": [
              "        designation     price  province  region_1  region_2   variety    winery\n",
              "2          0.998096  2.639057  0.730769  0.973485  1.941176  0.601562  0.710644\n",
              "3          0.704364  2.564949  0.423077  0.333333  2.000000  0.667969  0.832713\n",
              "4          0.947331  4.174387  0.730769  0.973485  1.941176  0.617188  0.857090\n",
              "10         0.571882  2.944439  0.076923  0.503788  1.352941  0.105469  0.478415\n",
              "12         0.998096  3.526361  0.076923  0.003788  1.705882  0.105469  0.530889\n",
              "...             ...       ...       ...       ...       ...       ...       ...\n",
              "129945     0.440457  2.995732  0.076923  0.757576  1.058824  0.218750  0.097693\n",
              "129949     0.068603  3.555348  0.076923  0.503788  1.352941  0.191406  0.325456\n",
              "129950     0.109920  3.555348  0.076923  0.503788  1.352941  0.996094  0.401191\n",
              "129952     0.998096  3.091042  0.076923  0.128788  1.352941  0.996094  0.417566\n",
              "129967     0.998096  4.317488  0.730769  0.590909  1.588235  0.617188  0.192780\n",
              "\n",
              "[54504 rows x 7 columns]"
            ]
          },
          "metadata": {
            "tags": []
          },
          "execution_count": 44
        }
      ]
    },
    {
      "cell_type": "code",
      "metadata": {
        "id": "QHCO_KcSBkKC",
        "colab_type": "code",
        "colab": {}
      },
      "source": [
        "def backward(predictors):\n",
        "    \n",
        "    tic = time.time()\n",
        "    \n",
        "    results = []\n",
        "    \n",
        "    for combo in itertools.combinations(predictors, len(predictors)-1):\n",
        "        results.append(processSubset(combo))\n",
        "    \n",
        "    # Wrap everything up in a nice dataframe\n",
        "    models = pd.DataFrame(results)\n",
        "    \n",
        "    # Choose the model with the highest RSS\n",
        "    best_model = models.loc[models['RSS'].argmin()]\n",
        "    \n",
        "    toc = time.time()\n",
        "    print(\"Processed \", models.shape[0], \"models on\", len(predictors)-1, \"predictors in\", (toc-tic), \"seconds.\")\n",
        "    \n",
        "    # Return the best model, along with some other useful information about the model\n",
        "    return best_model"
      ],
      "execution_count": 0,
      "outputs": []
    },
    {
      "cell_type": "code",
      "metadata": {
        "id": "UT7SrjoqBkKI",
        "colab_type": "code",
        "colab": {
          "base_uri": "https://localhost:8080/",
          "height": 136
        },
        "outputId": "aa4b2101-8107-4468-c635-3d965b59ffcc"
      },
      "source": [
        "models_bwd = pd.DataFrame(columns=[\"RSS\", \"model\"], index = range(1,len(X.columns)))\n",
        "\n",
        "tic = time.time()\n",
        "predictors = X.columns\n",
        "\n",
        "while(len(predictors) > 1):  \n",
        "    models_bwd.loc[len(predictors)-1] = backward(predictors)\n",
        "    predictors = models_bwd.loc[len(predictors)-1][\"model\"].model.exog_names\n",
        "\n",
        "toc = time.time()\n",
        "print(\"Total elapsed time:\", (toc-tic), \"seconds.\")"
      ],
      "execution_count": 46,
      "outputs": [
        {
          "output_type": "stream",
          "text": [
            "Processed  7 models on 6 predictors in 0.27258872985839844 seconds.\n",
            "Processed  6 models on 5 predictors in 0.18598294258117676 seconds.\n",
            "Processed  5 models on 4 predictors in 0.12044453620910645 seconds.\n",
            "Processed  4 models on 3 predictors in 0.08031964302062988 seconds.\n",
            "Processed  3 models on 2 predictors in 0.05170464515686035 seconds.\n",
            "Processed  2 models on 1 predictors in 0.026322603225708008 seconds.\n",
            "Total elapsed time: 0.750070333480835 seconds.\n"
          ],
          "name": "stdout"
        }
      ]
    },
    {
      "cell_type": "code",
      "metadata": {
        "id": "xav-b_bfBkKP",
        "colab_type": "code",
        "colab": {
          "base_uri": "https://localhost:8080/",
          "height": 187
        },
        "outputId": "2770f3b7-b906-4b0d-9719-92c8675afa33"
      },
      "source": [
        "print(\"-------------------\")\n",
        "print(\"Backward Selection:\")\n",
        "print(\"-------------------\")\n",
        "print(models_bwd.loc[6, \"model\"].params)"
      ],
      "execution_count": 51,
      "outputs": [
        {
          "output_type": "stream",
          "text": [
            "-------------------\n",
            "Backward Selection:\n",
            "-------------------\n",
            "designation    11.940350\n",
            "price          16.107286\n",
            "province        5.050889\n",
            "region_2       10.385006\n",
            "variety        10.882819\n",
            "winery          5.758389\n",
            "dtype: float64\n"
          ],
          "name": "stdout"
        }
      ]
    },
    {
      "cell_type": "code",
      "metadata": {
        "id": "mvUvAg7yBkKU",
        "colab_type": "code",
        "colab": {
          "base_uri": "https://localhost:8080/",
          "height": 425
        },
        "outputId": "7b7701af-bbfd-4ef7-9b83-56bc451e363e"
      },
      "source": [
        "print(models_bwd.loc[1, \"model\"].summary())"
      ],
      "execution_count": 52,
      "outputs": [
        {
          "output_type": "stream",
          "text": [
            "                                 OLS Regression Results                                \n",
            "=======================================================================================\n",
            "Dep. Variable:                 points   R-squared (uncentered):                   0.978\n",
            "Model:                            OLS   Adj. R-squared (uncentered):              0.978\n",
            "Method:                 Least Squares   F-statistic:                          2.374e+06\n",
            "Date:                Fri, 15 May 2020   Prob (F-statistic):                        0.00\n",
            "Time:                        21:07:04   Log-Likelihood:                     -2.1828e+05\n",
            "No. Observations:               54504   AIC:                                  4.366e+05\n",
            "Df Residuals:                   54503   BIC:                                  4.366e+05\n",
            "Df Model:                           1                                                  \n",
            "Covariance Type:            nonrobust                                                  \n",
            "==============================================================================\n",
            "                 coef    std err          t      P>|t|      [0.025      0.975]\n",
            "------------------------------------------------------------------------------\n",
            "price         25.2494      0.016   1540.830      0.000      25.217      25.282\n",
            "==============================================================================\n",
            "Omnibus:                      610.037   Durbin-Watson:                   1.581\n",
            "Prob(Omnibus):                  0.000   Jarque-Bera (JB):              668.753\n",
            "Skew:                          -0.227   Prob(JB):                    6.05e-146\n",
            "Kurtosis:                       3.297   Cond. No.                         1.00\n",
            "==============================================================================\n",
            "\n",
            "Warnings:\n",
            "[1] Standard Errors assume that the covariance matrix of the errors is correctly specified.\n"
          ],
          "name": "stdout"
        }
      ]
    },
    {
      "cell_type": "code",
      "metadata": {
        "id": "S6bwRviBBkKa",
        "colab_type": "code",
        "colab": {
          "base_uri": "https://localhost:8080/",
          "height": 442
        },
        "outputId": "1a2d77ee-869d-4357-fea2-940e3d73031d"
      },
      "source": [
        "print(models_bwd.loc[2, \"model\"].summary())"
      ],
      "execution_count": 53,
      "outputs": [
        {
          "output_type": "stream",
          "text": [
            "                                 OLS Regression Results                                \n",
            "=======================================================================================\n",
            "Dep. Variable:                 points   R-squared (uncentered):                   0.983\n",
            "Model:                            OLS   Adj. R-squared (uncentered):              0.983\n",
            "Method:                 Least Squares   F-statistic:                          1.608e+06\n",
            "Date:                Fri, 15 May 2020   Prob (F-statistic):                        0.00\n",
            "Time:                        21:07:11   Log-Likelihood:                     -2.1017e+05\n",
            "No. Observations:               54504   AIC:                                  4.203e+05\n",
            "Df Residuals:                   54502   BIC:                                  4.204e+05\n",
            "Df Model:                           2                                                  \n",
            "Covariance Type:            nonrobust                                                  \n",
            "==============================================================================\n",
            "                 coef    std err          t      P>|t|      [0.025      0.975]\n",
            "------------------------------------------------------------------------------\n",
            "price         18.2322      0.053    344.253      0.000      18.128      18.336\n",
            "region_2      17.4042      0.127    137.473      0.000      17.156      17.652\n",
            "==============================================================================\n",
            "Omnibus:                      134.986   Durbin-Watson:                   1.665\n",
            "Prob(Omnibus):                  0.000   Jarque-Bera (JB):              107.191\n",
            "Skew:                           0.008   Prob(JB):                     5.29e-24\n",
            "Kurtosis:                       2.783   Cond. No.                         10.4\n",
            "==============================================================================\n",
            "\n",
            "Warnings:\n",
            "[1] Standard Errors assume that the covariance matrix of the errors is correctly specified.\n"
          ],
          "name": "stdout"
        }
      ]
    },
    {
      "cell_type": "code",
      "metadata": {
        "id": "0o0vv8zvBkKf",
        "colab_type": "code",
        "colab": {
          "base_uri": "https://localhost:8080/",
          "height": 510
        },
        "outputId": "aeb296b6-204c-4ede-d6cc-99206128216c"
      },
      "source": [
        "print(models_bwd.loc[6, \"model\"].summary())"
      ],
      "execution_count": 55,
      "outputs": [
        {
          "output_type": "stream",
          "text": [
            "                                 OLS Regression Results                                \n",
            "=======================================================================================\n",
            "Dep. Variable:                 points   R-squared (uncentered):                   0.988\n",
            "Model:                            OLS   Adj. R-squared (uncentered):              0.988\n",
            "Method:                 Least Squares   F-statistic:                          7.765e+05\n",
            "Date:                Fri, 15 May 2020   Prob (F-statistic):                        0.00\n",
            "Time:                        21:07:41   Log-Likelihood:                     -2.0021e+05\n",
            "No. Observations:               54504   AIC:                                  4.004e+05\n",
            "Df Residuals:                   54498   BIC:                                  4.005e+05\n",
            "Df Model:                           6                                                  \n",
            "Covariance Type:            nonrobust                                                  \n",
            "===============================================================================\n",
            "                  coef    std err          t      P>|t|      [0.025      0.975]\n",
            "-------------------------------------------------------------------------------\n",
            "designation    11.9404      0.116    103.134      0.000      11.713      12.167\n",
            "price          16.1073      0.047    342.444      0.000      16.015      16.199\n",
            "province        5.0509      0.112     45.122      0.000       4.831       5.270\n",
            "region_2       10.3850      0.115     90.081      0.000      10.159      10.611\n",
            "variety        10.8828      0.138     78.986      0.000      10.613      11.153\n",
            "winery          5.7584      0.140     41.233      0.000       5.485       6.032\n",
            "==============================================================================\n",
            "Omnibus:                       59.898   Durbin-Watson:                   1.754\n",
            "Prob(Omnibus):                  0.000   Jarque-Bera (JB):               59.213\n",
            "Skew:                           0.072   Prob(JB):                     1.39e-13\n",
            "Kurtosis:                       2.928   Cond. No.                         14.0\n",
            "==============================================================================\n",
            "\n",
            "Warnings:\n",
            "[1] Standard Errors assume that the covariance matrix of the errors is correctly specified.\n"
          ],
          "name": "stdout"
        }
      ]
    },
    {
      "cell_type": "code",
      "metadata": {
        "id": "eY-sGPJpBkKm",
        "colab_type": "code",
        "colab": {
          "base_uri": "https://localhost:8080/",
          "height": 510
        },
        "outputId": "86d2d022-0991-4533-f625-fa0fd454a069"
      },
      "source": [
        "plt.figure(figsize=(20,10))\n",
        "plt.rcParams.update({'font.size': 18, 'lines.markersize': 10})\n",
        "\n",
        "# Set up a 2x2 grid so we can look at 4 plots at once\n",
        "plt.subplot(2, 2, 1)\n",
        "\n",
        "# We will now plot a red dot to indicate the model with the largest adjusted R^2 statistic.\n",
        "# The argmax() function can be used to identify the location of the maximum point of a vector\n",
        "plt.plot(models_bwd[\"RSS\"])\n",
        "plt.xlabel('# Predictors')\n",
        "plt.ylabel('RSS')\n",
        "\n",
        "# We will now plot a red dot to indicate the model with the largest adjusted R^2 statistic.\n",
        "# The argmax() function can be used to identify the location of the maximum point of a vector\n",
        "\n",
        "rsquared_adj = models_bwd.apply(lambda row: row[1].rsquared_adj, axis=1)\n",
        "\n",
        "plt.subplot(2, 2, 2)\n",
        "plt.plot(rsquared_adj)\n",
        "plt.plot(rsquared_adj.argmax(), rsquared_adj.max(), \"or\")\n",
        "plt.xlabel('# Predictors')\n",
        "plt.ylabel('adjusted rsquared')\n",
        "\n",
        "# We'll do the same for AIC and BIC, this time looking for the models with the SMALLEST statistic\n",
        "aic = models_bwd.apply(lambda row: row[1].aic, axis=1)\n",
        "\n",
        "plt.subplot(2, 2, 3)\n",
        "plt.plot(aic)\n",
        "plt.plot(aic.argmin(), aic.min(), \"or\")\n",
        "plt.xlabel('# Predictors')\n",
        "plt.ylabel('AIC')\n",
        "\n",
        "bic = models_bwd.apply(lambda row: row[1].bic, axis=1)\n",
        "\n",
        "plt.subplot(2, 2, 4)\n",
        "plt.plot(bic)\n",
        "plt.plot(bic.argmin(), bic.min(), \"or\")\n",
        "plt.xlabel('# Predictors')\n",
        "plt.ylabel('BIC')"
      ],
      "execution_count": 56,
      "outputs": [
        {
          "output_type": "execute_result",
          "data": {
            "text/plain": [
              "Text(0, 0.5, 'BIC')"
            ]
          },
          "metadata": {
            "tags": []
          },
          "execution_count": 56
        },
        {
          "output_type": "display_data",
          "data": {
            "image/png": "[encoded data removed]",
            "text/plain": [
              "<Figure size 1440x720 with 4 Axes>"
            ]
          },
          "metadata": {
            "tags": [],
            "needs_background": "light"
          }
        }
      ]
    },
    {
      "cell_type": "code",
      "metadata": {
        "id": "gPDbTQxVBkKs",
        "colab_type": "code",
        "colab": {
          "base_uri": "https://localhost:8080/",
          "height": 34
        },
        "outputId": "157f654a-b508-4060-dff0-b0b0bca58fd4"
      },
      "source": [
        "from sklearn import linear_model\n",
        "from sklearn.metrics import mean_squared_error, r2_score\n",
        "\n",
        "regr = linear_model.LinearRegression()\n",
        "\n",
        "# Train the model using the training sets\n",
        "regr.fit(X, y.values.reshape(-1,1))\n",
        "\n",
        "# Make predictions using the testing set\n",
        "preds = regr.predict(X)\n",
        "\n",
        "# The R mean squared error\n",
        "import math\n",
        "print('R Mean squared error: %.2f'\n",
        "      % math.sqrt(mean_squared_error(y, preds)))"
      ],
      "execution_count": 57,
      "outputs": [
        {
          "output_type": "stream",
          "text": [
            "R Mean squared error: 2.59\n"
          ],
          "name": "stdout"
        }
      ]
    }
  ]
}